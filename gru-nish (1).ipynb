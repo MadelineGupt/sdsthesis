{
 "cells": [
  {
   "cell_type": "code",
   "execution_count": 19,
   "id": "9c6c8fa7-3893-4c92-b3e7-2b0459ef8e56",
   "metadata": {},
   "outputs": [],
   "source": [
    "import numpy as np\n",
    "from tqdm import tqdm\n",
    "import tensorflow as tf\n",
    "import random\n",
    "import matplotlib.pyplot as plt\n",
    "import re\n",
    "  \n",
    "from keras.models import Sequential, model_from_json\n",
    "from keras.layers import Dense, Activation\n",
    "from keras.layers import GRU, SimpleRNN"
   ]
  },
  {
   "cell_type": "code",
   "execution_count": 21,
   "id": "cffcc9b1-efdc-486f-83cd-d501fe223882",
   "metadata": {},
   "outputs": [],
   "source": [
    "with open('/Users/maddiegupta/Desktop/train.txt', 'r') as file:\n",
    "    train_text = file.read()\n",
    "    \n",
    "with open('/Users/maddiegupta/Desktop/test.txt', 'r') as file:\n",
    "    test_text = file.read()\n",
    "\n",
    "vocabulary = sorted(list(set(train_text + test_text)))\n",
    "vocab_size = len(vocabulary)\n",
    "\n",
    "# Dictionaries to go from a character to index and vice versa\n",
    "char_to_indices = dict((c, i) for i, c in enumerate(vocabulary))\n",
    "indices_to_char = dict((i, c) for i, c in enumerate(vocabulary))"
   ]
  },
  {
   "cell_type": "code",
   "execution_count": 23,
   "id": "ecf3f956-c26d-484a-bc8e-ff591b83f90e",
   "metadata": {},
   "outputs": [],
   "source": [
    "def clean_text(text):\n",
    "    # Remove the Byte Order Mark (BOM) if it exists\n",
    "    cleaned_text = text.replace('\\ufeff', '')\n",
    "    \n",
    "    # Remove unwanted characters (if any) using regular expressions\n",
    "    # For example, removing digits, parentheses, and punctuation not needed:\n",
    "    cleaned_text = re.sub(r'[^\\w\\s\\'\\n]', '', cleaned_text)\n",
    "    \n",
    "    # Optional: Remove any extra spaces or weird line breaks\n",
    "    cleaned_text = re.sub(r'\\s+', ' ', cleaned_text).strip()\n",
    "\n",
    "    cleaned_text = cleaned_text.lower()\n",
    "    \n",
    "    return cleaned_text\n",
    "    \n",
    "train_text = clean_text(train_text)\n",
    "test_text = clean_text(test_text)"
   ]
  },
  {
   "cell_type": "code",
   "execution_count": 25,
   "id": "623c5527-fcbd-4fa9-ab42-b182f85819ee",
   "metadata": {},
   "outputs": [
    {
     "data": {
      "text/plain": [
       "'apii jiibay bi dagooshinod okanan nandawaabandaanan gii gaadooyaan baatiindoon ishkweyaang ndodengwekaajigan nisimdanaashiniswi beshabiiaag manidoominensag inaabiiginaag oningwiiganan gaawiin tesiinon onzowan gaawiin tesiinon niizhtanaashiniizhwaaswi nindayaanan wii aabjitooyaan jiezhininjiishiyaan maage giiwitaajiishinidiying jimaamwizhibiiamaang dibaajimowinan ewaamjigaadeg miidash dibishkoo makwa ningwayakogaabow gichikaanan biiskamowaad mashkawiziwinan jimaajaayaan okanensan agaasin apii ene'"
      ]
     },
     "execution_count": 25,
     "metadata": {},
     "output_type": "execute_result"
    }
   ],
   "source": [
    "# The first 500 characters of our training set\n",
    "train_text[0:500]"
   ]
  },
  {
   "cell_type": "code",
   "execution_count": 27,
   "id": "f208b7b2-a201-4b22-a99f-d34611ac7584",
   "metadata": {},
   "outputs": [
    {
     "name": "stdout",
     "output_type": "stream",
     "text": [
      "The vocabulary contains 44 characters\n",
      "The training set contains 73265 characters\n",
      "The test set contains 419 characters\n"
     ]
    }
   ],
   "source": [
    "print(\"The vocabulary contains\", vocab_size, \"characters\")\n",
    "print(\"The training set contains\", len(train_text) ,\"characters\")\n",
    "print(\"The test set contains\", len(test_text) ,\"characters\")"
   ]
  },
  {
   "cell_type": "markdown",
   "id": "3c97d914-9ad8-4175-8090-b879b4d4dca7",
   "metadata": {},
   "source": [
    "Here's a peek at our training set."
   ]
  },
  {
   "cell_type": "code",
   "execution_count": 30,
   "id": "82b0af59-b949-4a10-9675-d483ccad5219",
   "metadata": {},
   "outputs": [],
   "source": [
    "#prepare one hot encoding with train_data and train_labels from train_text\n",
    "sequence_length = 100  # Length of each sequence (you can adjust this)\n",
    "\n",
    "# Prepare input and output sequences\n",
    "train_data = []\n",
    "train_labels = []\n",
    "\n",
    "for i in range(0, len(train_text) - sequence_length):\n",
    "    # Get a sequence of characters as input\n",
    "    input_seq = train_text[i: i + sequence_length]\n",
    "    # Get the next character as the target label\n",
    "    label = train_text[i + sequence_length]\n",
    "    \n",
    "    # Convert the input sequence into a list of indices (from char_to_indices)\n",
    "    input_seq_indices = [char_to_indices[char] for char in input_seq]\n",
    "    \n",
    "    # Append to the training data\n",
    "    train_data.append(input_seq_indices)\n",
    "    \n",
    "    # Append the label (as an index)\n",
    "    train_labels.append(char_to_indices[label])\n",
    "\n",
    "# Now we need to one-hot encode the data and labels\n",
    "train_data = np.array(train_data)\n",
    "train_labels = np.array(train_labels)\n",
    "\n",
    "# Convert train_data to one-hot encoding\n",
    "train_data_one_hot = np.zeros((len(train_data), sequence_length, vocab_size), dtype=bool)\n",
    "\n",
    "for i, seq in enumerate(train_data):\n",
    "    for t, char_idx in enumerate(seq):\n",
    "        train_data_one_hot[i, t, char_idx] = 1\n",
    "\n",
    "# Convert train_labels to one-hot encoding\n",
    "train_labels_one_hot = np.zeros((len(train_labels), vocab_size), dtype=bool)\n",
    "\n",
    "for i, label_idx in enumerate(train_labels):\n",
    "    train_labels_one_hot[i, label_idx] = 1"
   ]
  },
  {
   "cell_type": "code",
   "execution_count": 31,
   "id": "c1b5ccf1-91cd-4026-9c86-2e7094131108",
   "metadata": {},
   "outputs": [],
   "source": [
    "# load json and create model\n",
    "json_file = open('/Users/maddiegupta/Desktop/q2_data/GRU_model.json', 'r')\n",
    "loaded_model_json = json_file.read()\n",
    "json_file.close()\n",
    "\n",
    "GRU_model = model_from_json(loaded_model_json)\n",
    "GRU_model.load_weights(\"/Users/maddiegupta/Desktop/q2_data/GRU_model.h5\")"
   ]
  },
  {
   "cell_type": "code",
   "execution_count": 32,
   "id": "9b54ec55-bd6f-4ef8-b242-9e9f3f0d2edb",
   "metadata": {},
   "outputs": [
    {
     "name": "stdout",
     "output_type": "stream",
     "text": [
      "Epoch 1/5\n",
      "915/915 [==============================] - 759s 828ms/step - loss: 2.1121 - val_loss: 2.1002\n",
      "Epoch 2/5\n",
      "915/915 [==============================] - 944s 1s/step - loss: 1.7269 - val_loss: 2.0729\n",
      "Epoch 3/5\n",
      "915/915 [==============================] - 1489s 2s/step - loss: 1.5469 - val_loss: 2.0380\n",
      "Epoch 4/5\n",
      "915/915 [==============================] - 773s 845ms/step - loss: 1.4044 - val_loss: 2.0738\n",
      "Epoch 5/5\n",
      "915/915 [==============================] - 983s 1s/step - loss: 1.2796 - val_loss: 2.0807\n"
     ]
    }
   ],
   "source": [
    "# Compile the GRU model with a loss function and optimizer\n",
    "GRU_model.compile(optimizer='adam', loss='categorical_crossentropy')\n",
    "\n",
    "# Graphing the loss at each epoch to see the ideal training level \n",
    "# Fine-tune the model and save the training history\n",
    "history = GRU_model.fit(train_data_one_hot, train_labels_one_hot, validation_split=0.2, epochs=5, batch_size=64)"
   ]
  },
  {
   "cell_type": "code",
   "execution_count": 33,
   "id": "2949c438-91c3-4b20-968e-9e9dad0a04c0",
   "metadata": {},
   "outputs": [
    {
     "data": {
      "image/png": "[encoded data removed]",
      "text/plain": [
       "<Figure size 640x480 with 1 Axes>"
      ]
     },
     "metadata": {},
     "output_type": "display_data"
    }
   ],
   "source": [
    "# Plot the loss at each epoch\n",
    "plt.plot(history.history['val_loss'])\n",
    "plt.title('Model Loss')\n",
    "plt.xlabel('Epoch')\n",
    "plt.ylabel('Loss')\n",
    "plt.show()"
   ]
  },
  {
   "cell_type": "markdown",
   "id": "0f849e25-8765-475d-8196-28af64ff5d44",
   "metadata": {},
   "source": [
    "Now, we plot the loss by epoch for the model. Each epoch represents another pass over the data by the model. We want the epoch where the lowest loss is, indicating that the model is learning but not memorizing the data. You can see the lowest loss for the Anishinaabemowin model is at 2 epochs. It is interesting that the model needs less passes over the data than the English model to learn it similarly well. "
   ]
  },
  {
   "cell_type": "code",
   "execution_count": 35,
   "id": "c1c5d0bc-3cc7-4d8d-91f2-c9cf6c8a36f7",
   "metadata": {},
   "outputs": [
    {
     "name": "stdout",
     "output_type": "stream",
     "text": [
      "Epoch 1/2\n",
      "1830/1830 [==============================] - 2311s 1s/step - loss: 2.0163 - val_loss: 2.1260\n",
      "Epoch 2/2\n",
      "1830/1830 [==============================] - 2330s 1s/step - loss: 1.6239 - val_loss: 2.0711\n"
     ]
    }
   ],
   "source": [
    "# retraining with the ideal epochs we found\n",
    "json_file = open('/Users/maddiegupta/Desktop/q2_data/GRU_model.json', 'r')\n",
    "loaded_model_json = json_file.read()\n",
    "json_file.close()\n",
    "\n",
    "GRU_model = model_from_json(loaded_model_json)\n",
    "GRU_model.load_weights(\"/Users/maddiegupta/Desktop/q2_data/GRU_model.h5\")\n",
    "\n",
    "GRU_model.compile(optimizer='adam', loss='categorical_crossentropy')\n",
    "\n",
    "history = GRU_model.fit(train_data_one_hot, train_labels_one_hot, validation_split=0.2, epochs=2, batch_size=32)"
   ]
  },
  {
   "cell_type": "code",
   "execution_count": 45,
   "id": "f1fe1256-abcf-46be-a045-44a185da97dc",
   "metadata": {},
   "outputs": [],
   "source": [
    "# Helper function\n",
    "weights_GRU = GRU_model.get_weights()\n",
    "\n",
    "def sigmoid(z):\n",
    "    return 1 / (1 + np.exp(-z))\n",
    "\n",
    "def sample_text_GRU(weights, prompt, N):\n",
    "    '''\n",
    "    Uses a pretrained GRU to generate text, starting from a prompt,\n",
    "    only using the weights and numpy commands\n",
    "            Parameters:\n",
    "                    weights (list): Weights of the pretrained GRU model\n",
    "                    prompt (string): Start of generated sentence\n",
    "                    N (int): Total length of output sentence\n",
    "            Returns:\n",
    "                    output_sentence (string): Text generated by GRU\n",
    "    '''\n",
    "    # Extracting weights and biases\n",
    "    # Dimensions of matrices are same format as lecture slides\n",
    "    \n",
    "    # GRU Layer \n",
    "    W_ux, W_rx, W_hx = np.split(weights[0].T, 3, axis = 0)\n",
    "    W_uh, W_rh, W_hh = np.split(weights[1].T, 3, axis = 0)\n",
    "    \n",
    "    bias = np.sum(weights[2], axis=0)\n",
    "    b_u, b_r, b_h = np.split(np.expand_dims(bias, axis=1), 3)\n",
    "\n",
    "    # Linear (dense) layer\n",
    "    W_y = weights[3].T\n",
    "    b_y = np.expand_dims(weights[4], axis=1)\n",
    "    \n",
    "    # Initiate hidden state\n",
    "    h = np.zeros((W_hh.shape[0], 1))\n",
    "    \n",
    "    # -----------------------------------------------\n",
    "    m = len(prompt)\n",
    "    # Initiate the output sentence\n",
    "    char_ind = char_to_indices[prompt[0]]\n",
    "    x = np.zeros((vocab_size, 1))\n",
    "    x[char_ind] = 1\n",
    "    output_sentence = prompt[0]\n",
    "\n",
    "    for t in range(1, N):\n",
    "        # Calculate update and reset gates\n",
    "        Gamma_u = sigmoid(np.dot(W_ux, x) + np.dot(W_uh, h) + b_u)\n",
    "        Gamma_r = sigmoid(np.dot(W_rx, x) + np.dot(W_rh, h) + b_r)\n",
    "        \n",
    "        # Calculate hidden states\n",
    "        c = np.tanh(np.dot(W_hx, x) + Gamma_r *  np.dot(W_hh, h) + b_h)\n",
    "        h = Gamma_u * h + (1 - Gamma_u) * c\n",
    "        \n",
    "        # No prediction necessary, just add next char in the prompt\n",
    "        if t < m:\n",
    "            char_ind = char_to_indices[prompt[t]]\n",
    "            output_sentence += prompt[t]\n",
    "            \n",
    "        # Predict the next character and add to output sentence\n",
    "        if t >= m:\n",
    "            # Calculate the output states\n",
    "            y = np.dot(W_y, h) + b_y\n",
    "            # Calculate the probability distribution\n",
    "            p = np.exp(y) / np.sum(np.exp(y))\n",
    "            # Sample next character in sentence\n",
    "            char_ind = np.random.choice(range(vocab_size), p=p.ravel())\n",
    "            pred_char = indices_to_char[char_ind]\n",
    "            output_sentence += pred_char\n",
    "            \n",
    "        # Obtain the one-hot encoding of next character\n",
    "        x = np.zeros((vocab_size, 1))\n",
    "        x[char_ind] = 1\n",
    "        \n",
    "    return output_sentence"
   ]
  },
  {
   "cell_type": "code",
   "execution_count": 47,
   "id": "9fb10d3f-e82d-42a9-a48f-5db20bca6604",
   "metadata": {},
   "outputs": [
    {
     "name": "stdout",
     "output_type": "stream",
     "text": [
      "kwedong niniibawaad gaaakwiijiywag maabii kwiik desh waa maanwewins niningiishkwiiwigadegidow aniw a\n"
     ]
    }
   ],
   "source": [
    "print(sample_text_GRU(weights_GRU, \n",
    "                      'kwe',\n",
    "                      100))"
   ]
  },
  {
   "cell_type": "markdown",
   "id": "c3d38cdf-eacf-486f-b5ec-1d02e8988832",
   "metadata": {},
   "source": [
    "The generation is not too bad. It has some misspellings and doesn't make sense as a sentence, but it follows the correct vowel and consonent patterns while putting 2-3 letters in a row correctly. It is not as good as the N-Gram, but also exhibits more learning than an N-Gram does, and less memorization. "
   ]
  },
  {
   "cell_type": "code",
   "execution_count": 26,
   "id": "f5c8a620-d4cd-40fd-b13e-d030cc0cc6e6",
   "metadata": {},
   "outputs": [],
   "source": [
    "#test with training text \n",
    "\n",
    "def evaluate_GRU_on_test(weights, test_text, N):\n",
    "    '''\n",
    "    Evaluates how well the GRU model performs on the test_text\n",
    "            Parameters:\n",
    "                    weights (list): Weights of the pretrained GRU model\n",
    "                    test_text (string): Test text to compare against generated text\n",
    "                    N (int): Number of characters to generate\n",
    "            Returns:\n",
    "                    accuracy (float): Accuracy of the model on the test text\n",
    "    '''\n",
    "    correct_predictions = 0\n",
    "    total_predictions = 0\n",
    "    \n",
    "    # Choose a starting prompt from the test text\n",
    "    prompt_length = 10  # You can vary this value\n",
    "    for i in range(len(test_text) - prompt_length - N):\n",
    "        prompt = test_text[i:i+prompt_length]\n",
    "        true_text = test_text[i+prompt_length:i+prompt_length+N]\n",
    "        \n",
    "        # Generate text using the GRU model\n",
    "        generated_text = sample_text_GRU(weights, prompt, N)\n",
    "        \n",
    "        # Compare generated text to the actual test text\n",
    "        for j in range(min(len(generated_text), len(true_text))):\n",
    "            if generated_text[j] == true_text[j]:\n",
    "                correct_predictions += 1\n",
    "            total_predictions += 1\n",
    "    \n",
    "    # Calculate accuracy\n",
    "    accuracy = correct_predictions / total_predictions\n",
    "    return accuracy"
   ]
  },
  {
   "cell_type": "code",
   "execution_count": 28,
   "id": "ff503fde-08a3-4685-88d6-53ff43be3d87",
   "metadata": {},
   "outputs": [
    {
     "name": "stdout",
     "output_type": "stream",
     "text": [
      "Model accuracy on test text: 0.11\n"
     ]
    }
   ],
   "source": [
    "N = 100  # Number of characters to generate\n",
    "accuracy = evaluate_GRU_on_test(weights_GRU, test_text, N)\n",
    "print(f\"Model accuracy on test text: {accuracy:.2f}\")"
   ]
  },
  {
   "cell_type": "markdown",
   "id": "996ba0ff-9127-49c6-9a4a-097fd02b73a6",
   "metadata": {},
   "source": [
    "An accuracy of over ten percent is high for the small amount of data we have. It is also very notable that it has a higher accuracy than the English GRU does. I was really surprised by that, and think it sets a great stage for future research into this phenomenon specifically. "
   ]
  },
  {
   "cell_type": "code",
   "execution_count": 55,
   "id": "2839f2d4-d85e-419f-acd1-c512daabc3d5",
   "metadata": {},
   "outputs": [],
   "source": [
    "def perplexity_GRU(weights, test_data, m):\n",
    "    # Extracting weights and biases\n",
    "    # Dimensions of matrices are same format as lecture slides\n",
    "    \n",
    "    # GRU Layer \n",
    "    W_ux, W_rx, W_hx = np.split(weights[0].T, 3, axis = 0)\n",
    "    W_uh, W_rh, W_hh = np.split(weights[1].T, 3, axis = 0)\n",
    "\n",
    "    bias = np.sum(weights[2], axis=0)\n",
    "    b_u, b_r, b_h = np.split(np.expand_dims(bias, axis=1), 3)\n",
    "\n",
    "    # Linear (dense) layer\n",
    "    W_y = weights[3].T\n",
    "    b_y = np.expand_dims(weights[4], axis=1)\n",
    "    \n",
    "    # Initiate hidden state\n",
    "    h = np.zeros((W_hh.shape[0], 1))\n",
    "    \n",
    "    # -----------------------------------------------\n",
    "    prompt = test_data[0:m]\n",
    "    N = len(test_data)\n",
    "    # Initiate array of probabilities\n",
    "    p_array = np.zeros(N-m)\n",
    "    char_ind = char_to_indices[prompt[0]]\n",
    "    x = np.zeros((vocab_size, 1))\n",
    "    x[char_ind] = 1\n",
    "\n",
    "    for t in range(1, N):\n",
    "        # Calculate update and reset gates\n",
    "        Gamma_u = sigmoid(np.dot(W_ux, x) + np.dot(W_uh, h) + b_u)\n",
    "        Gamma_r = sigmoid(np.dot(W_rx, x) + np.dot(W_rh, h) + b_r)\n",
    "        \n",
    "        # Calculate hidden states\n",
    "        c = np.tanh(np.dot(W_hx, x) + Gamma_r * np.dot(W_hh, h) + b_h)\n",
    "        h = Gamma_u * h + (1 - Gamma_u) * c\n",
    "        \n",
    "        # No prediction necessary, just add next char in the prompt\n",
    "        if t < m:\n",
    "            char_ind = char_to_indices[test_data[t]]\n",
    "            \n",
    "        # Predict the next character and add to output sentence\n",
    "        if t >= m:\n",
    "            # Calculate the output states\n",
    "            y = np.dot(W_y, h) + b_y\n",
    "            # Calculate the probability distribution\n",
    "            p = np.exp(y) / np.sum(np.exp(y))\n",
    "            # Get the next character in the test set\n",
    "            char_ind = char_to_indices[test_data[t]]\n",
    "            # Add the probability corresponding to test sequence to list\n",
    "            p_array[t-m] = p[char_ind]\n",
    "            \n",
    "        # Obtain the one-hot encoding of next character\n",
    "        x = np.zeros((vocab_size, 1))\n",
    "        x[char_ind] = 1\n",
    "\n",
    "    return np.log(p_array), np.exp((-1/(N-m)) * np.sum(np.log(p_array)))"
   ]
  },
  {
   "cell_type": "code",
   "execution_count": 69,
   "id": "595e9d10-098c-4ee3-bef6-a0ac9cc3d635",
   "metadata": {},
   "outputs": [
    {
     "data": {
      "image/png": "[encoded data removed]",
      "text/plain": [
       "<Figure size 1000x600 with 1 Axes>"
      ]
     },
     "metadata": {},
     "output_type": "display_data"
    },
    {
     "name": "stdout",
     "output_type": "stream",
     "text": [
      "Perplexity of the model: 5.8655089401998834\n"
     ]
    }
   ],
   "source": [
    "import numpy as np\n",
    "import matplotlib.pyplot as plt\n",
    "\n",
    "# Run the function to get log probabilities and perplexity\n",
    "log_probs, perplexity = perplexity_GRU(weights_GRU, test_text, 44)\n",
    "\n",
    "# Plot histogram of the log probabilities\n",
    "plt.figure(figsize=(10, 6))\n",
    "plt.hist(log_probs, bins=30, edgecolor='k', alpha=0.7)\n",
    "plt.title(\"Distribution of Log Probabilities\")\n",
    "plt.xlabel(\"Log Probability\")\n",
    "plt.ylabel(\"Frequency\")\n",
    "plt.show()\n",
    "\n",
    "print(f\"Perplexity of the model: {perplexity}\")\n"
   ]
  },
  {
   "cell_type": "markdown",
   "id": "8d567b9e-21b7-42c8-be84-b9c65dd9b9fc",
   "metadata": {},
   "source": [
    "The perplexity of the Anishinaabemowin GRU is suprisingly a lot lower than the English model. "
   ]
  },
  {
   "cell_type": "markdown",
   "id": "25442e4e-d928-47ef-b06d-4f861977195d",
   "metadata": {},
   "source": [
    "These results are striking. Compared to the English GRU, the Anishinaabemowin GRU has a higher accuracy both qualitatively and quantiatively, less passes over the data needed, and a lower perplexity. All of these metrics point to the Anishinaabemowin model actually being more successful than the English model in our small dataset environment. "
   ]
  }
 ],
 "metadata": {
  "kernelspec": {
   "display_name": "Python 3 (ipykernel)",
   "language": "python",
   "name": "python3"
  },
  "language_info": {
   "codemirror_mode": {
    "name": "ipython",
    "version": 3
   },
   "file_extension": ".py",
   "mimetype": "text/x-python",
   "name": "python",
   "nbconvert_exporter": "python",
   "pygments_lexer": "ipython3",
   "version": "3.9.18"
  }
 },
 "nbformat": 4,
 "nbformat_minor": 5
}
