{
 "cells": [
  {
   "cell_type": "code",
   "execution_count": 4,
   "id": "9c6c8fa7-3893-4c92-b3e7-2b0459ef8e56",
   "metadata": {},
   "outputs": [],
   "source": [
    "import numpy as np\n",
    "from tqdm import tqdm\n",
    "import tensorflow as tf\n",
    "import random\n",
    "import re\n",
    "import matplotlib.pyplot as plt\n",
    "\n",
    "from keras.models import Sequential, model_from_json\n",
    "from keras.layers import Dense, Activation\n",
    "from keras.layers import GRU, SimpleRNN"
   ]
  },
  {
   "cell_type": "markdown",
   "id": "fb5a5794-2fa6-42de-a0a8-8917065a28d8",
   "metadata": {},
   "source": [
    "This code imports the packages we will use. "
   ]
  },
  {
   "cell_type": "code",
   "execution_count": 7,
   "id": "e201a0e3-c098-4afd-bf13-c3c1fbb4bbe1",
   "metadata": {},
   "outputs": [],
   "source": [
    "with open('/Users/maddiegupta/Desktop/trainENG.txt', 'r') as file:\n",
    "    train_text = file.read()\n",
    "    \n",
    "with open('/Users/maddiegupta/Desktop/testENG.txt', 'r') as file:\n",
    "    test_text = file.read()\n",
    "\n",
    "vocabulary = sorted(list(set(train_text + test_text)))\n",
    "vocab_size = len(vocabulary)\n",
    "\n",
    "# Dictionaries to go from a character to index and vice versa\n",
    "char_to_indices = dict((c, i) for i, c in enumerate(vocabulary))\n",
    "indices_to_char = dict((i, c) for i, c in enumerate(vocabulary))"
   ]
  },
  {
   "cell_type": "markdown",
   "id": "f3fcaca5-5744-4205-9f23-44c86f1f217d",
   "metadata": {},
   "source": [
    "Here, we import our training data and testing data. "
   ]
  },
  {
   "cell_type": "code",
   "execution_count": 10,
   "id": "84a84f8f-d3a7-4995-bed5-d1976c434966",
   "metadata": {},
   "outputs": [],
   "source": [
    "def clean_text(text):\n",
    "    # Remove the Byte Order Mark (BOM) if it exists\n",
    "    cleaned_text = text.replace('\\ufeff', '')\n",
    "    \n",
    "    # Remove unwanted characters (if any) using regular expressions\n",
    "    # For example, removing digits, parentheses, and punctuation not needed:\n",
    "    cleaned_text = re.sub(r'[^\\w\\s\\'\\n]', '', cleaned_text)\n",
    "    \n",
    "    # Optional: Remove any extra spaces or weird line breaks\n",
    "    cleaned_text = re.sub(r'\\s+', ' ', cleaned_text).strip()\n",
    "    \n",
    "    return cleaned_text\n",
    "    \n",
    "train_text = clean_text(train_text)\n",
    "test_text = clean_text(test_text)"
   ]
  },
  {
   "cell_type": "markdown",
   "id": "ca815071-92b2-4a7f-ae4b-887c88c1e114",
   "metadata": {},
   "source": [
    "We also clean the files so they are ready for training. "
   ]
  },
  {
   "cell_type": "code",
   "execution_count": 13,
   "id": "92fe218d-d298-4935-aa47-876b33555038",
   "metadata": {},
   "outputs": [
    {
     "data": {
      "text/plain": [
       "'seek one meantime you will remain here i have told our friend in the office that you are a lady slightly insane whom i am conveying to her friends so he will have an eye to your safety he smiled again and departed leaving delia overwhelmed with terror and despair she thought at first that she would run home at all hazards but she saw the baggage master watching her and she dared not attempt it he believed her insane and even if she told him her story he would not believe her she covered her face with her hands and burst into tears of agony but at that moment a strong hand was laid on her arm and a familiar voice said delia she looked up in amazement there stood mr fletcher wrapped in his long dark cloak his black hair dripping with the rain and his eyes like blazing fires delia he repeated what are you doing here delia had once feared mr fletcher more than any other ling being but now he seemed to her like an angel sent from heaven to her rescue she threw herself at his feet and exclai'"
      ]
     },
     "execution_count": 13,
     "metadata": {},
     "output_type": "execute_result"
    }
   ],
   "source": [
    "# 1000 characters of our training set\n",
    "train_text[0:1000]"
   ]
  },
  {
   "cell_type": "code",
   "execution_count": 15,
   "id": "97175d74-f797-4283-a427-523f14f66a16",
   "metadata": {},
   "outputs": [
    {
     "name": "stdout",
     "output_type": "stream",
     "text": [
      "The vocabulary contains 44 characters\n",
      "The training set contains 59521 characters\n",
      "The test set contains 529 characters\n"
     ]
    }
   ],
   "source": [
    "print(\"The vocabulary contains\", vocab_size, \"characters\")\n",
    "print(\"The training set contains\", len(train_text) ,\"characters\")\n",
    "print(\"The test set contains\", len(test_text) ,\"characters\")"
   ]
  },
  {
   "cell_type": "markdown",
   "id": "dc5ed127-c9ba-42a3-a0cb-fb51c59fa2b9",
   "metadata": {},
   "source": [
    "Here's a peek at our training set. "
   ]
  },
  {
   "cell_type": "code",
   "execution_count": 18,
   "id": "22eedbf2-63ae-46bb-beda-7006166f9619",
   "metadata": {},
   "outputs": [],
   "source": [
    "#prepare one hot encoding with train_data and train_labels from train_text\n",
    "sequence_length = 100  # Length of each sequence (you can adjust this)\n",
    "\n",
    "# Prepare input and output sequences\n",
    "train_data = []\n",
    "train_labels = []\n",
    "\n",
    "for i in range(0, len(train_text) - sequence_length):\n",
    "    # Get a sequence of characters as input\n",
    "    input_seq = train_text[i: i + sequence_length]\n",
    "    # Get the next character as the target label\n",
    "    label = train_text[i + sequence_length]\n",
    "    \n",
    "    # Convert the input sequence into a list of indices (from char_to_indices)\n",
    "    input_seq_indices = [char_to_indices[char] for char in input_seq]\n",
    "    \n",
    "    # Append to the training data\n",
    "    train_data.append(input_seq_indices)\n",
    "    \n",
    "    # Append the label (as an index)\n",
    "    train_labels.append(char_to_indices[label])\n",
    "\n",
    "# Now we need to one-hot encode the data and labels\n",
    "train_data = np.array(train_data)\n",
    "train_labels = np.array(train_labels)\n",
    "\n",
    "# Convert train_data to one-hot encoding\n",
    "train_data_one_hot = np.zeros((len(train_data), sequence_length, vocab_size), dtype=bool)\n",
    "\n",
    "for i, seq in enumerate(train_data):\n",
    "    for t, char_idx in enumerate(seq):\n",
    "        train_data_one_hot[i, t, char_idx] = 1\n",
    "\n",
    "# Convert train_labels to one-hot encoding\n",
    "train_labels_one_hot = np.zeros((len(train_labels), vocab_size), dtype=bool)\n",
    "\n",
    "for i, label_idx in enumerate(train_labels):\n",
    "    train_labels_one_hot[i, label_idx] = 1"
   ]
  },
  {
   "cell_type": "markdown",
   "id": "6388821d-9adf-4964-9346-f11198006204",
   "metadata": {},
   "source": [
    "This code prepares input and output sequences from `train_text` for training a character-based neural network model. It first converts character sequences into their respective indices based on a predefined character-to-index mapping (`char_to_indices`). Then, it transforms both the input data (`train_data`) and labels (`train_labels`) into one-hot encoded matrices, where each character is represented as a binary vector, enabling the model to understand each character's unique identity in the training process."
   ]
  },
  {
   "cell_type": "code",
   "execution_count": 21,
   "id": "aefd388b-b2d0-4bf1-929c-8d00e4c1126d",
   "metadata": {},
   "outputs": [],
   "source": [
    "# load json and create model\n",
    "json_file = open('/Users/maddiegupta/Desktop/q2_data/GRU_model.json', 'r')\n",
    "loaded_model_json = json_file.read()\n",
    "json_file.close()\n",
    "\n",
    "GRU_model = model_from_json(loaded_model_json)\n",
    "GRU_model.load_weights(\"/Users/maddiegupta/Desktop/q2_data/GRU_model.h5\")"
   ]
  },
  {
   "cell_type": "markdown",
   "id": "c99bb173-562a-4204-8ac0-69d814ad8885",
   "metadata": {},
   "source": [
    "This code loads a pre-trained GRU model from a JSON file and its corresponding weights from an H5 file. It first reads the model's architecture from the JSON file and reconstructs the model using `model_from_json`. Then, it loads the model's saved weights from the specified H5 file, allowing you to use or further train the model without having to recompile or retrain it from scratch."
   ]
  },
  {
   "cell_type": "code",
   "execution_count": 24,
   "id": "b6d20337-30dc-4188-acfd-dfdc99688f70",
   "metadata": {},
   "outputs": [
    {
     "name": "stdout",
     "output_type": "stream",
     "text": [
      "Epoch 1/5\n",
      "1486/1486 [==============================] - 815s 548ms/step - loss: 2.2971 - val_loss: 1.9378\n",
      "Epoch 2/5\n",
      "1486/1486 [==============================] - 981s 661ms/step - loss: 1.8141 - val_loss: 1.7857\n",
      "Epoch 3/5\n",
      "1486/1486 [==============================] - 818s 550ms/step - loss: 1.6108 - val_loss: 1.6715\n",
      "Epoch 4/5\n",
      "1486/1486 [==============================] - 760s 511ms/step - loss: 1.4597 - val_loss: 1.6600\n",
      "Epoch 5/5\n",
      "1486/1486 [==============================] - 872s 587ms/step - loss: 1.3184 - val_loss: 1.6647\n"
     ]
    }
   ],
   "source": [
    "# Compile the GRU model with a loss function and optimizer\n",
    "GRU_model.compile(optimizer='adam', loss='categorical_crossentropy')\n",
    "\n",
    "# Graphing the loss at each epoch to see the ideal training level \n",
    "# Fine-tune the model and save the training history\n",
    "history = GRU_model.fit(train_data_one_hot, train_labels_one_hot, validation_split=0.2, epochs=5, batch_size=32)"
   ]
  },
  {
   "cell_type": "markdown",
   "id": "a2414c83-481b-4a64-9e5c-a59f800f713b",
   "metadata": {},
   "source": [
    "This code compiles and trains the loaded GRU model with the Adam optimizer and categorical cross-entropy loss, which is suitable for multi-class classification problems. The model is fine-tuned on the prepared training data (`train_data_one_hot` and `train_labels_one_hot`) over 5 epochs with a batch size of 32, and 20% of the data is set aside for validation to monitor performance during training. The `history` object stores the loss and validation loss for each epoch, which can be graphed later to visualize the model’s learning progression and identify the ideal training level."
   ]
  },
  {
   "cell_type": "code",
   "execution_count": 26,
   "id": "5d9fcc50-23d0-4ddb-9e8c-31990e4356e8",
   "metadata": {},
   "outputs": [
    {
     "data": {
      "image/png": "[encoded data removed]",
      "text/plain": [
       "<Figure size 640x480 with 1 Axes>"
      ]
     },
     "metadata": {},
     "output_type": "display_data"
    }
   ],
   "source": [
    "# Plot the loss at each epoch\n",
    "plt.plot(history.history['val_loss'])\n",
    "plt.title('Model Loss')\n",
    "plt.xlabel('Epoch')\n",
    "plt.ylabel('Loss')\n",
    "plt.show()"
   ]
  },
  {
   "cell_type": "markdown",
   "id": "70f7eee4-83e1-4bd8-845f-0400c564aaca",
   "metadata": {},
   "source": [
    "Now, we plot the loss by epoch for the model. Each epoch represents another pass over the data by the model. We want the epoch where the lowest loss is, indicating that the model is learning but not memorizing the data. You can see the lowest loss for the English model is at 3 epochs. "
   ]
  },
  {
   "cell_type": "code",
   "execution_count": 28,
   "id": "df10536e-317b-4e4b-9353-d3293a25eeea",
   "metadata": {},
   "outputs": [
    {
     "name": "stdout",
     "output_type": "stream",
     "text": [
      "Epoch 1/3\n",
      "1486/1486 [==============================] - 835s 561ms/step - loss: 2.3220 - val_loss: 2.0566\n",
      "Epoch 2/3\n",
      "1486/1486 [==============================] - 1528s 1s/step - loss: 1.9107 - val_loss: 1.8533\n",
      "Epoch 3/3\n",
      "1486/1486 [==============================] - 1080s 727ms/step - loss: 1.7281 - val_loss: 1.7465\n"
     ]
    }
   ],
   "source": [
    "# retraining with the ideal epochs we found\n",
    "json_file = open('/Users/maddiegupta/Desktop/q2_data/GRU_model.json', 'r')\n",
    "loaded_model_json = json_file.read()\n",
    "json_file.close()\n",
    "\n",
    "GRU_model = model_from_json(loaded_model_json)\n",
    "GRU_model.load_weights(\"/Users/maddiegupta/Desktop/q2_data/GRU_model.h5\")\n",
    "\n",
    "GRU_model.compile(optimizer='adam', loss='categorical_crossentropy')\n",
    "\n",
    "history = GRU_model.fit(train_data_one_hot, train_labels_one_hot, validation_split=0.2, epochs=3, batch_size=32)"
   ]
  },
  {
   "cell_type": "code",
   "execution_count": 35,
   "id": "3b528726-8e5e-4942-9615-eb78189f8bb3",
   "metadata": {},
   "outputs": [],
   "source": [
    "# Helper function\n",
    "weights_GRU = GRU_model.get_weights()\n",
    "\n",
    "\n",
    "def sigmoid(z):\n",
    "    return 1 / (1 + np.exp(-z))\n",
    "\n",
    "def sample_text_GRU(weights, prompt, N):\n",
    "    '''\n",
    "    Uses a pretrained GRU to generate text, starting from a prompt,\n",
    "    only using the weights and numpy commands\n",
    "            Parameters:\n",
    "                    weights (list): Weights of the pretrained GRU model\n",
    "                    prompt (string): Start of generated sentence\n",
    "                    N (int): Total length of output sentence\n",
    "            Returns:\n",
    "                    output_sentence (string): Text generated by GRU\n",
    "    '''\n",
    "    # Extracting weights and biases\n",
    "    # Dimensions of matrices are same format as lecture slides\n",
    "    \n",
    "    # GRU Layer \n",
    "    W_ux, W_rx, W_hx = np.split(weights[0].T, 3, axis = 0)\n",
    "    W_uh, W_rh, W_hh = np.split(weights[1].T, 3, axis = 0)\n",
    "\n",
    "    bias = np.sum(weights[2], axis=0)\n",
    "    b_u, b_r, b_h = np.split(np.expand_dims(bias, axis=1), 3)\n",
    "\n",
    "    # Linear (dense) layer\n",
    "    W_y = weights[3].T\n",
    "    b_y = np.expand_dims(weights[4], axis=1)\n",
    "    \n",
    "    # Initiate hidden state\n",
    "    h = np.zeros((W_hh.shape[0], 1))\n",
    "    \n",
    "    # -----------------------------------------------\n",
    "    m = len(prompt)\n",
    "    # Initiate the output sentence\n",
    "    char_ind = char_to_indices[prompt[0]]\n",
    "    x = np.zeros((vocab_size, 1))\n",
    "    x[char_ind] = 1\n",
    "    output_sentence = prompt[0]\n",
    "\n",
    "    for t in range(1, N):\n",
    "        # Calculate update and reset gates\n",
    "        Gamma_u = sigmoid(np.dot(W_ux, x) + np.dot(W_uh, h) + b_u)\n",
    "        Gamma_r = sigmoid(np.dot(W_rx, x) + np.dot(W_rh, h) + b_r)\n",
    "        \n",
    "        # Calculate hidden states\n",
    "        c = np.tanh(np.dot(W_hx, x) + Gamma_r *  np.dot(W_hh, h) + b_h)\n",
    "        h = Gamma_u * h + (1 - Gamma_u) * c\n",
    "        \n",
    "        # No prediction necessary, just add next char in the prompt\n",
    "        if t < m:\n",
    "            char_ind = char_to_indices[prompt[t]]\n",
    "            output_sentence += prompt[t]\n",
    "            \n",
    "        # Predict the next character and add to output sentence\n",
    "        if t >= m:\n",
    "            # Calculate the output states\n",
    "            y = np.dot(W_y, h) + b_y\n",
    "            # Calculate the probability distribution\n",
    "            p = np.exp(y) / np.sum(np.exp(y))\n",
    "            # Sample next character in sentence\n",
    "            char_ind = np.random.choice(range(vocab_size), p=p.ravel())\n",
    "            pred_char = indices_to_char[char_ind]\n",
    "            output_sentence += pred_char\n",
    "            \n",
    "        # Obtain the one-hot encoding of next character\n",
    "        x = np.zeros((vocab_size, 1))\n",
    "        x[char_ind] = 1\n",
    "        \n",
    "    return output_sentence"
   ]
  },
  {
   "cell_type": "markdown",
   "id": "7b04c22d-c91d-4dd4-8c8b-d84bc47a097f",
   "metadata": {},
   "source": [
    "The `sample_text_GRU` function generates text from a pre-trained GRU model, beginning with a prompt and only relying on the provided model weights and NumPy operations, rather than a deep learning library. It starts by organizing the GRU weights into specific matrices for the update gate, reset gate, and candidate hidden state, reflecting the GRU’s unique mechanism for processing sequences. The function then initializes a zeroed hidden state and encodes the first character of the prompt to begin generating. For each time step, it calculates the GRU’s update and reset gates and computes a new hidden state based on the current input character and previous hidden state. If still processing within the length of the prompt, it simply uses the next character in the prompt; afterward, it predicts the next character by calculating a probability distribution over possible characters and sampling from it. Through these steps, the function progressively builds the output sentence, enabling text generation based on the GRU model’s trained parameters in an environment where a lower-level implementation is required."
   ]
  },
  {
   "cell_type": "code",
   "execution_count": 38,
   "id": "2bf50fb6-e890-4596-abe1-1a6fb97c41f2",
   "metadata": {},
   "outputs": [
    {
     "name": "stdout",
     "output_type": "stream",
     "text": [
      "mrs. oliver looked at herself in the glass. she gave a brief, sideways look dropp asper she was from don't assoserouh seegned her and anpos resspreafes and poor the stared lotkdshand her and she sed not buths myss me duls be nomer very mr hrd lodenthis bnongh cacken thatkhed i drdhn and come not regap and pomrrood hebrels depress for rngs mrus sards mnmaninn emrd pomrrougs not her thll her ard and deder himple so profdorsinndabred that her remirs masond her and mrknnge for rnught mrs pomeroy and mighingher youss dile snrucked nut to mrr masknss room had neveront domernad youry but stelvinle she demI her remanessld moself her prosed the hadd has notlave drof she had roor soming aglirss to dearred come of fer anro mrd shecher amarnss for repureserent onsor howims and bus hod and fll her of comed she redres repared she corrsellare allmrs poor reponersover insher dournd the doorables lrngss dol's hel dass busd bighmed to tor hrd knowhactspond ar and room actent mas regand dring rencend mrs\n"
     ]
    }
   ],
   "source": [
    "print(sample_text_GRU(weights_GRU, \n",
    "                      'mrs. oliver looked at herself in the glass. she gave a brief, sideways look',\n",
    "                      1000))"
   ]
  },
  {
   "cell_type": "markdown",
   "id": "0f7247f9-99a0-4516-9acc-45a39ddc832c",
   "metadata": {},
   "source": [
    "The generated text is not as good as the N-Gram, but it does have some english words and follows an english sentence structure. Words like \"come\" and \"poor\" pop out well, indicating that shorter words may have done better. It works decently for being such a small training set and training from scratch with the GRU. "
   ]
  },
  {
   "cell_type": "code",
   "execution_count": 40,
   "id": "5122e1a2-ec46-4871-83db-03e426ca3fca",
   "metadata": {},
   "outputs": [],
   "source": [
    "#test with training text \n",
    "\n",
    "def evaluate_GRU_on_test(weights, test_text, N):\n",
    "    '''\n",
    "    Evaluates how well the GRU model performs on the test_text\n",
    "            Parameters:\n",
    "                    weights (list): Weights of the pretrained GRU model\n",
    "                    test_text (string): Test text to compare against generated text\n",
    "                    N (int): Number of characters to generate\n",
    "            Returns:\n",
    "                    accuracy (float): Accuracy of the model on the test text\n",
    "    '''\n",
    "    correct_predictions = 0\n",
    "    total_predictions = 0\n",
    "    \n",
    "    # Choose a starting prompt from the test text\n",
    "    prompt_length = 10  # You can vary this value\n",
    "    for i in range(len(test_text) - prompt_length - N):\n",
    "        prompt = test_text[i:i+prompt_length]\n",
    "        true_text = test_text[i+prompt_length:i+prompt_length+N]\n",
    "        \n",
    "        # Generate text using the GRU model\n",
    "        generated_text = sample_text_GRU(weights, prompt, N)\n",
    "        \n",
    "        # Compare generated text to the actual test text\n",
    "        for j in range(min(len(generated_text), len(true_text))):\n",
    "            if generated_text[j] == true_text[j]:\n",
    "                correct_predictions += 1\n",
    "            total_predictions += 1\n",
    "    \n",
    "    # Calculate accuracy\n",
    "    accuracy = correct_predictions / total_predictions\n",
    "    return accuracy"
   ]
  },
  {
   "cell_type": "markdown",
   "id": "6050eb19-494c-4f52-9983-2696a9e6b4b6",
   "metadata": {},
   "source": [
    "The `evaluate_GRU_on_test` function assesses how accurately a pre-trained GRU model generates text that matches a given `test_text` string. It starts by selecting multiple prompts from `test_text`, each with a predefined `prompt_length`, and then generates text based on these prompts using the `sample_text_GRU` function. For each generated character, the function compares it to the corresponding character in the actual text and records the number of correct matches. The total number of predictions is tallied, and the function calculates the accuracy as the ratio of correct predictions to total predictions. This accuracy value represents the GRU model's effectiveness in replicating the structure and content of the test text."
   ]
  },
  {
   "cell_type": "code",
   "execution_count": 42,
   "id": "97e6f11a-3fbc-4f24-86d5-85e278b30505",
   "metadata": {},
   "outputs": [
    {
     "name": "stdout",
     "output_type": "stream",
     "text": [
      "Model accuracy on test text: 0.07\n"
     ]
    }
   ],
   "source": [
    "N = 100  # Number of characters to generate\n",
    "accuracy = evaluate_GRU_on_test(weights_GRU, test_text, N)\n",
    "print(f\"Model accuracy on test text: {accuracy:.2f}\")"
   ]
  },
  {
   "cell_type": "markdown",
   "id": "4f4288b3-6403-4ab2-9e97-2cb3e97b9f27",
   "metadata": {},
   "source": [
    "The accuracy of 7% could be worse. It means a 7% improvement over having no information, and could save users 7% of their keystrokes given an autocomplete feature use for this model. "
   ]
  },
  {
   "cell_type": "code",
   "execution_count": 209,
   "id": "6c74b683-57b3-485a-9ee7-62c713f53f2d",
   "metadata": {},
   "outputs": [],
   "source": [
    "def perplexity_GRU(weights, test_data, m):\n",
    "    # Extracting weights and biases\n",
    "    # Dimensions of matrices are same format as lecture slides\n",
    "    \n",
    "    # GRU Layer \n",
    "    W_ux, W_rx, W_hx = np.split(weights[0].T, 3, axis = 0)\n",
    "    W_uh, W_rh, W_hh = np.split(weights[1].T, 3, axis = 0)\n",
    "\n",
    "    bias = np.sum(weights[2], axis=0)\n",
    "    b_u, b_r, b_h = np.split(np.expand_dims(bias, axis=1), 3)\n",
    "\n",
    "    # Linear (dense) layer\n",
    "    W_y = weights[3].T\n",
    "    b_y = np.expand_dims(weights[4], axis=1)\n",
    "    \n",
    "    # Initiate hidden state\n",
    "    h = np.zeros((W_hh.shape[0], 1))\n",
    "    \n",
    "    # -----------------------------------------------\n",
    "    prompt = test_data[0:m]\n",
    "    N = len(test_data)\n",
    "    # Initiate array of probabilities\n",
    "    p_array = np.zeros(N-m)\n",
    "    char_ind = char_to_indices[prompt[0]]\n",
    "    x = np.zeros((vocab_size, 1))\n",
    "    x[char_ind] = 1\n",
    "\n",
    "    for t in range(1, N):\n",
    "        # Calculate update and reset gates\n",
    "        Gamma_u = sigmoid(np.dot(W_ux, x) + np.dot(W_uh, h) + b_u)\n",
    "        Gamma_r = sigmoid(np.dot(W_rx, x) + np.dot(W_rh, h) + b_r)\n",
    "        \n",
    "        # Calculate hidden states\n",
    "        c = np.tanh(np.dot(W_hx, x) + Gamma_r * np.dot(W_hh, h) + b_h)\n",
    "        h = Gamma_u * h + (1 - Gamma_u) * c\n",
    "        \n",
    "        # No prediction necessary, just add next char in the prompt\n",
    "        if t < m:\n",
    "            char_ind = char_to_indices[test_data[t]]\n",
    "            \n",
    "        # Predict the next character and add to output sentence\n",
    "        if t >= m:\n",
    "            # Calculate the output states\n",
    "            y = np.dot(W_y, h) + b_y\n",
    "            # Calculate the probability distribution\n",
    "            p = np.exp(y) / np.sum(np.exp(y))\n",
    "            # Get the next character in the test set\n",
    "            char_ind = char_to_indices[test_data[t]]\n",
    "            # Add the probability corresponding to test sequence to list\n",
    "            p_array[t-m] = p[char_ind]\n",
    "            \n",
    "        # Obtain the one-hot encoding of next character\n",
    "        x = np.zeros((vocab_size, 1))\n",
    "        x[char_ind] = 1\n",
    "\n",
    "    return np.log(p_array), np.exp((-1/(N-m)) * np.sum(np.log(p_array)))"
   ]
  },
  {
   "cell_type": "markdown",
   "id": "d5bd78d2-7526-468e-8e0c-8702d955bd0d",
   "metadata": {},
   "source": [
    "The `perplexity_GRU` function calculates the perplexity of a GRU model on test data, a measure of the model’s ability to predict sequences. It begins by organizing the GRU weights, initializing the hidden state, and preparing the prompt from the `test_data`. For each character, it updates the GRU’s hidden state and predicts the probability distribution for the next character. The probability of the true next character in the sequence is recorded for each step. Finally, it calculates perplexity by exponentiating the average negative log-probability of these recorded probabilities, providing a single metric that reflects the model’s predictive accuracy. Lower perplexity indicates better predictive performance."
   ]
  },
  {
   "cell_type": "code",
   "execution_count": 213,
   "id": "be6e48db-0961-4685-aaa9-fe48154e1a5c",
   "metadata": {},
   "outputs": [
    {
     "data": {
      "image/png": "[encoded data removed]",
      "text/plain": [
       "<Figure size 400x300 with 1 Axes>"
      ]
     },
     "metadata": {},
     "output_type": "display_data"
    }
   ],
   "source": [
    "# Create a single plot\n",
    "plt.figure(figsize=(4, 3))\n",
    "\n",
    "# Plot the histogram\n",
    "plt.hist(p_GRU, bins=30)\n",
    "\n",
    "# Add title and labels\n",
    "plt.title(f\"GRU model: Perplexity {np.round(per_GRU, 4)}\")\n",
    "plt.xlabel(\"log(p)\")\n",
    "plt.ylabel(\"Frequency\")\n",
    "\n",
    "# Show the plot\n",
    "plt.tight_layout()\n",
    "plt.show()"
   ]
  },
  {
   "cell_type": "markdown",
   "id": "211b2ce5-4d84-485e-ab86-e724af148d92",
   "metadata": {},
   "source": [
    "Overall, the perplexity of the GRU model for english is fairly low, at around 15. This indicates the model is working pretty well. We can also see this visually with the output. Although it isn't perfect, it produces english words in order. For the size of the model, that is promising. Next, we will see how it compares to the Anishinaabemowin GRU. "
   ]
  }
 ],
 "metadata": {
  "kernelspec": {
   "display_name": "Python 3 (ipykernel)",
   "language": "python",
   "name": "python3"
  },
  "language_info": {
   "codemirror_mode": {
    "name": "ipython",
    "version": 3
   },
   "file_extension": ".py",
   "mimetype": "text/x-python",
   "name": "python",
   "nbconvert_exporter": "python",
   "pygments_lexer": "ipython3",
   "version": "3.9.18"
  }
 },
 "nbformat": 4,
 "nbformat_minor": 5
}
